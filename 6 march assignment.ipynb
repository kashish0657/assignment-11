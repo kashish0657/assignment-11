{
 "cells": [
  {
   "cell_type": "code",
   "execution_count": null,
   "id": "7beb1d54-42bb-4e77-8e6b-e3471c4c560e",
   "metadata": {},
   "outputs": [],
   "source": [
    "6th MARCH ASSIGNMENT "
   ]
  },
  {
   "cell_type": "code",
   "execution_count": null,
   "id": "adb4cf20-71bd-4b70-9bd7-158c0f954faa",
   "metadata": {},
   "outputs": [],
   "source": [
    "1:ans:-  STATISTICS\n",
    "\n",
    "            Statistics is a scenes of collecting , organising , and analyzing data . "
   ]
  },
  {
   "cell_type": "code",
   "execution_count": null,
   "id": "79828e4d-d9db-424e-8719-0535a354accf",
   "metadata": {},
   "outputs": [],
   "source": [
    "2:ans:- \n",
    "            Types Of Statistics:\n",
    "                \n",
    "                1 - Descriptive statistics\n",
    "                2 - Infrential statistics\n",
    "                \n",
    "        Example:-  Lets say there are 20 statistics classes at your college and you have collective the highest\n",
    "                    of the students in the class . \n",
    "            \n",
    "                Descriptive question:-\n",
    "                \n",
    "                \"What is the average height of the entire classroom\".\n",
    "                \n",
    "                Infrential question:-\n",
    "                \n",
    "                \"Are the height of the students in classroom similar to what you expectin the entire college\".\n",
    "    "
   ]
  },
  {
   "cell_type": "code",
   "execution_count": null,
   "id": "7a3e7147-bd28-4694-b956-f770ffd79ebb",
   "metadata": {},
   "outputs": [],
   "source": [
    "3:ans:-  Types of Data:-\n",
    "\n",
    "        1 - Quantitative :- \n",
    "                It is Numerical . (+ , - , * , /)\n",
    "                It has two types :- a:- Discrete\n",
    "                                            It accepts whole number.\n",
    "                                                Example :-  No. of bank account , No. of children in a family\n",
    "                    \n",
    "                                    b:- Continuous\n",
    "                                            It accepts any value.\n",
    "                                                Example :-  weight , height , speed , distance\n",
    "        2 - Qualitative :-\n",
    "                It is categorical data/variable . \n",
    "                It has two types :- a:- Nominal\n",
    "                                            Example :- Gender , Blood group , Pincode\n",
    "                                    b:- Ordinal\n",
    "                                            Example :- Customer Feedback ( Better , Good , Bad )"
   ]
  },
  {
   "cell_type": "code",
   "execution_count": null,
   "id": "e2b0368c-1052-42a1-978c-a09251dcceb6",
   "metadata": {},
   "outputs": [],
   "source": [
    "4:ans:- Qualitatve And Quantitative\n",
    "\n",
    "a:ans:-  Qualitatve\n",
    "b:ans:-  Qualitatve\n",
    "c:ans:-  Quantitative\n",
    "d:ans:-  Quantitative\n"
   ]
  },
  {
   "cell_type": "code",
   "execution_count": null,
   "id": "c0b694d5-8315-4d5a-b2d3-cc4348d66bff",
   "metadata": {},
   "outputs": [],
   "source": [
    "5:ans:-  Level of Measurement:-\n",
    "\n",
    "        1:- Nominal  Scale  Data :-  Order doesnot matter.\n",
    "    \n",
    "            Example :- Favourite color\n",
    "            Red - 5 - 50%\n",
    "            Blue - 3 - 30%\n",
    "            Orange - 2 - 20%\n",
    "            \n",
    "        2:- Ordinal  Scale  Data :-  Orders matter.\n",
    "        \n",
    "            Example :- Ranking is important:-\n",
    "            1 - Better\n",
    "            2 - Good\n",
    "            3 - Bad\n",
    "            \n",
    "        3:- Internal Scale  Data :-  Orders matter.\n",
    "        \n",
    "            Example :- Temprature Variable:-\n",
    "                        30F\n",
    "                        60F\n",
    "                        90F\n",
    "                        120F\n",
    "                        \n",
    "        4:- Ratio    Scale  Data :-  Orders matter.\n",
    "        \n",
    "            Example :- Students marks in a class:-\n",
    "                        90 , 60 , 30 , 45 , 75 , 50\n",
    "     Ascending order :- 30 , 45 , 50 , 60 , 75 , 90\n",
    "    "
   ]
  },
  {
   "cell_type": "code",
   "execution_count": null,
   "id": "a3df8247-4c88-4761-8a92-1702e8fa03bb",
   "metadata": {},
   "outputs": [],
   "source": [
    "6:ans:- \n",
    "            The level of measurement determines the type of statistical analysis that can be\n",
    "            conducted , and , therefore the type of conclusion that can be drawn from the \n",
    "            research . It allows statisticians and analyst to more efficiently plan for\n",
    "            research and present their findings . The main reason for measuring level is to \n",
    "            keep track of inventory in terms of volume or weight . \n",
    "            "
   ]
  },
  {
   "cell_type": "code",
   "execution_count": null,
   "id": "ad43d752-9b3a-4ba7-8d99-b612bdac54ba",
   "metadata": {},
   "outputs": [],
   "source": [
    "7:ans:-  \n",
    "\n",
    "Nominal Data  :-\n",
    "\n",
    "                1:- It is qualitative or categorical data\n",
    "                2:- Example:- Gender , Colors , Habits\n",
    "                3:- Order doesnot matter . \n",
    "            \n",
    "Ordinal Data  :-\n",
    "\n",
    "                1:- Ranking is important .\n",
    "                2:- Order matters . \n",
    "                3:- Difference cannot be measured\n",
    "            "
   ]
  },
  {
   "cell_type": "code",
   "execution_count": null,
   "id": "de1c2813-14fb-4b09-b41d-8af5ca9b1748",
   "metadata": {},
   "outputs": [],
   "source": [
    "8:ans:-  \n",
    "        A Trellis plot also called  a lattice graph or plot.\n",
    "    "
   ]
  },
  {
   "cell_type": "code",
   "execution_count": null,
   "id": "4a5e124f-6ba6-48d6-91f6-f4f28b256989",
   "metadata": {},
   "outputs": [],
   "source": [
    "9:ans:- \n",
    "        Descriptive statistics :-\n",
    "             It consists of organising and summarizing the data .\n",
    "        \n",
    "        Infrential statistics :-\n",
    "            It consists of using data you have measured to form conclusion .\n",
    "\n",
    "Infrential statistics helps to compare data , make hypotheses and predictions . Descriptive statistics explains\n",
    "already known data related to a particular sample or population of a small size , Infrential statistics , however\n",
    "aims to draw inferences or conclusion about a whole population .\n"
   ]
  },
  {
   "cell_type": "code",
   "execution_count": null,
   "id": "9a5a9d7f-3bc9-4f13-963a-88fdc58dd2d2",
   "metadata": {},
   "outputs": [],
   "source": [
    "10:ans:- \n",
    "        Measures of central tendency tell us what is common or typical about our\n",
    "        variable . Three measures of central tendency are the mode , the median\n",
    "        and the mean . The mode is used almost exclusively with nominal-level\n",
    "        data , as it is the only measure of central tendency available for such variable .\n",
    "        \n",
    "        The variance and the standard deviation are measures of the spread of the data around\n",
    "        the mean ."
   ]
  }
 ],
 "metadata": {
  "kernelspec": {
   "display_name": "Python 3 (ipykernel)",
   "language": "python",
   "name": "python3"
  },
  "language_info": {
   "codemirror_mode": {
    "name": "ipython",
    "version": 3
   },
   "file_extension": ".py",
   "mimetype": "text/x-python",
   "name": "python",
   "nbconvert_exporter": "python",
   "pygments_lexer": "ipython3",
   "version": "3.10.8"
  }
 },
 "nbformat": 4,
 "nbformat_minor": 5
}
